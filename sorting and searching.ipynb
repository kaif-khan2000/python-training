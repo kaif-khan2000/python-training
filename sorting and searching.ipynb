{
 "cells": [
  {
   "cell_type": "markdown",
   "metadata": {},
   "source": [
    "## binary search algorithm"
   ]
  },
  {
   "cell_type": "code",
   "execution_count": 12,
   "metadata": {},
   "outputs": [
    {
     "name": "stdout",
     "output_type": "stream",
     "text": [
      "not found\n"
     ]
    }
   ],
   "source": [
    "def binary_search(a,ele):\n",
    "    low = 0\n",
    "    high = len(a) - 1\n",
    "    flag = 0\n",
    "    while low<=high:    \n",
    "        mid = (low + high)//2\n",
    "        if a[mid]==ele:\n",
    "            flag = 1\n",
    "            break\n",
    "        elif a[mid]>ele:\n",
    "            high = mid-1\n",
    "        else:\n",
    "            low = mid+1\n",
    "    if flag == 1:\n",
    "        print(\"found\")\n",
    "    else:\n",
    "        print(\"not found\")\n",
    "a= [1,21,34,56,75,90,98]\n",
    "binary_search(a,78)"
   ]
  },
  {
   "cell_type": "markdown",
   "metadata": {},
   "source": [
    "## sorting algorithms\n",
    "    1. bubble sort\n",
    "    2. merge sort\n",
    "    3. quick sort"
   ]
  },
  {
   "cell_type": "markdown",
   "metadata": {},
   "source": [
    "### bubble sort"
   ]
  },
  {
   "cell_type": "code",
   "execution_count": 38,
   "metadata": {},
   "outputs": [
    {
     "name": "stdout",
     "output_type": "stream",
     "text": [
      "[3, 25, 31]\n"
     ]
    }
   ],
   "source": [
    "def sort(a):\n",
    "    for j in range(len(a)-1):\n",
    "        flag = 0\n",
    "        for i in range(len(a)-j-1):\n",
    "            if a[i]>a[i+1]:\n",
    "                a[i+1] = a[i]+a[i+1]\n",
    "                a[i] = a[i+1] - a[i]\n",
    "                a[i+1] = a[i+1] - a[i]\n",
    "                flag = 1\n",
    "        if flag == 0:\n",
    "            break\n",
    "a=[31,25,3]\n",
    "sort(a)\n",
    "print(a)"
   ]
  },
  {
   "cell_type": "code",
   "execution_count": 40,
   "metadata": {},
   "outputs": [
    {
     "name": "stdout",
     "output_type": "stream",
     "text": [
      "[3, 25, 31]\n"
     ]
    }
   ],
   "source": [
    "def sort(a):\n",
    "    for j in range(len(a)-1):\n",
    "        flag = 0\n",
    "        for i in range(len(a)-j-1):\n",
    "            if a[i]>a[i+1]:\n",
    "                a[i],a[i+1] = a[i+1],a[i]\n",
    "                flag = 1\n",
    "        if flag == 0:\n",
    "            break\n",
    "a=[31,25,3]\n",
    "sort(a)\n",
    "print(a)"
   ]
  },
  {
   "cell_type": "code",
   "execution_count": 45,
   "metadata": {},
   "outputs": [],
   "source": [
    "a = \"\"\"kaif\n",
    "ali \n",
    "khan\"\"\""
   ]
  },
  {
   "cell_type": "code",
   "execution_count": null,
   "metadata": {},
   "outputs": [],
   "source": [
    "def str(num):\n",
    "    num1 = "
   ]
  }
 ],
 "metadata": {
  "kernelspec": {
   "display_name": "Python 3",
   "language": "python",
   "name": "python3"
  },
  "language_info": {
   "codemirror_mode": {
    "name": "ipython",
    "version": 3
   },
   "file_extension": ".py",
   "mimetype": "text/x-python",
   "name": "python",
   "nbconvert_exporter": "python",
   "pygments_lexer": "ipython3",
   "version": "3.7.3"
  }
 },
 "nbformat": 4,
 "nbformat_minor": 2
}
